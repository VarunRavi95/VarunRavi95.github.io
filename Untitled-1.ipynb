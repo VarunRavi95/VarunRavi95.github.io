{
 "cells": [
  {
   "cell_type": "code",
   "execution_count": null,
   "metadata": {},
   "outputs": [],
   "source": [
    "import pandas as pd\n",
    "\n",
    "# Specify the path to the CSV file\n",
    "file_path = 'listings_2.csv'  # Replace with the actual file path\n",
    "\n",
    "# Load the data into a DataFrame\n",
    "df = pd.read_csv(file_path)\n",
    "\n",
    "# List out the column names\n",
    "column_names = df.columns.tolist()\n",
    "\n",
    "# Print the column names\n",
    "print(column_names)\n",
    "print(len(column_names))"
   ]
  },
  {
   "cell_type": "code",
   "execution_count": null,
   "metadata": {},
   "outputs": [],
   "source": [
    "important_features = [\n",
    "    'property_type','description', 'room_type', 'accommodates', 'bedrooms', 'beds', 'bathrooms_text', 'amenities',\n",
    "    'latitude', 'longitude', 'neighbourhood_cleansed', 'price', 'minimum_nights', 'maximum_nights',\n",
    "    'availability_30', 'availability_60', 'availability_90', 'availability_365',\n",
    "    'number_of_reviews', 'review_scores_rating', 'reviews_per_month',\n",
    "    'review_scores_cleanliness', 'review_scores_communication', 'review_scores_location', 'review_scores_value',\n",
    "    'host_response_time', 'host_is_superhost', 'calculated_host_listings_count', 'instant_bookable'\n",
    "]\n",
    "\n",
    "# Create a new DataFrame with only the necessary columns\n",
    "df_selected = df[important_features]\n",
    "\n",
    "# Display the first few rows of the new DataFrame to verify\n",
    "print(df_selected.head())\n",
    "\n",
    "# Print the number of columns retained\n",
    "print(len(df_selected))"
   ]
  },
  {
   "cell_type": "code",
   "execution_count": null,
   "metadata": {},
   "outputs": [],
   "source": [
    "# Remove rows with any NaN or missing values\n",
    "df_cleaned = df_selected.dropna()\n",
    "\n",
    "# Display the first few rows of the cleaned DataFrame to verify\n",
    "print(df_cleaned.head())\n",
    "\n",
    "# Print the number of rows and columns retained\n",
    "print(f\"Rows retained: {df_cleaned.shape[0]}, Columns retained: {df_cleaned.shape[1]}\")"
   ]
  },
  {
   "cell_type": "code",
   "execution_count": null,
   "metadata": {},
   "outputs": [],
   "source": [
    "import nltk\n",
    "\n",
    "# Download required NLTK resources\n",
    "nltk.download('stopwords')\n",
    "nltk.download('punkt')  # This includes the necessary tokenizer for word_tokenize\n",
    "nltk.download('wordnet')"
   ]
  },
  {
   "cell_type": "code",
   "execution_count": null,
   "metadata": {},
   "outputs": [],
   "source": [
    "import pandas as pd\n",
    "import re\n",
    "from sklearn.feature_extraction.text import TfidfVectorizer\n",
    "from sklearn.preprocessing import StandardScaler, OneHotEncoder\n",
    "from sklearn.metrics.pairwise import cosine_similarity\n",
    "from scipy.sparse import hstack\n",
    "import spacy\n",
    "\n",
    "# Load spaCy model\n",
    "nlp = spacy.load('en_core_web_sm')\n",
    "\n",
    "# Load the data\n",
    "file_path = 'listings_2.csv'  # Replace with your file path\n",
    "df = pd.read_csv(file_path)\n",
    "\n",
    "# Specify relevant columns for processing\n",
    "textual_columns = ['description', 'neighborhood_overview', 'neighbourhood', 'property_type', 'room_type', 'bathrooms_text', 'amenities']\n",
    "numerical_columns = ['accommodates', 'bedrooms', 'beds', 'price', 'number_of_reviews', 'review_scores_rating']  # Example numerical columns\n",
    "categorical_columns = ['host_is_superhost', 'instant_bookable']  # Example categorical columns\n",
    "\n",
    "# Fill NaNs with empty strings for text columns and with 0 for numerical columns\n",
    "df[textual_columns] = df[textual_columns].fillna('')\n",
    "df[numerical_columns] = df[numerical_columns].fillna(0)\n",
    "\n",
    "# Preprocess textual columns\n",
    "def preprocess_text(text):\n",
    "    text = re.sub(r'[\\[\\]\\\"]', '', text).lower()\n",
    "    doc = nlp(text)\n",
    "    tokens = [token.lemma_ for token in doc if not token.is_stop and token.is_alpha]\n",
    "    return ' '.join(tokens)\n",
    "\n",
    "# Apply preprocessing to the specified textual columns\n",
    "for col in textual_columns:\n",
    "    df[f'{col}_cleaned'] = df[col].apply(preprocess_text)\n",
    "\n",
    "# Combine cleaned text columns into a single 'combined_text' column\n",
    "df['combined_text'] = df[[f'{col}_cleaned' for col in textual_columns]].apply(lambda x: ' '.join(x), axis=1)\n",
    "\n",
    "# TF-IDF Vectorization on the combined text\n",
    "tfidf_vectorizer = TfidfVectorizer(max_features=5000)\n",
    "tfidf_matrix = tfidf_vectorizer.fit_transform(df['combined_text'])\n",
    "\n",
    "# Display the shape of the TF-IDF matrix\n",
    "print(f'TF-IDF Matrix Shape: {tfidf_matrix.shape}')"
   ]
  },
  {
   "cell_type": "code",
   "execution_count": null,
   "metadata": {},
   "outputs": [],
   "source": [
    "# Standardize numerical features\n",
    "scaler = StandardScaler()\n",
    "numerical_features = scaler.fit_transform(df[numerical_columns])\n",
    "\n",
    "# One-Hot Encode categorical features\n",
    "encoder = OneHotEncoder(sparse=True, handle_unknown='ignore')\n",
    "categorical_features = encoder.fit_transform(df[categorical_columns])\n",
    "\n",
    "# Combine all features: TF-IDF matrix, numerical features, and categorical features\n",
    "combined_features = hstack([tfidf_matrix, numerical_features, categorical_features])\n",
    "\n",
    "# Calculate cosine similarity on the combined feature matrix\n",
    "similarity_matrix = cosine_similarity(combined_features)\n"
   ]
  },
  {
   "cell_type": "code",
   "execution_count": null,
   "metadata": {},
   "outputs": [],
   "source": [
    "from sklearn.metrics.pairwise import cosine_similarity\n",
    "import numpy as np\n",
    "def preprocess_query(query, nlp):\n",
    "    \"\"\"\n",
    "    Preprocesses the user query to match the preprocessing done on the listings.\n",
    "    \n",
    "    Parameters:\n",
    "        query (str): User input query in text form.\n",
    "        nlp (spacy.lang.en.English): Loaded spaCy NLP model.\n",
    "        \n",
    "    Returns:\n",
    "        str: Cleaned and processed query.\n",
    "    \"\"\"\n",
    "    query = re.sub(r'[\\[\\]\\\"]', '', query).lower()\n",
    "    doc = nlp(query)\n",
    "    tokens = [token.lemma_ for token in doc if not token.is_stop and token.is_alpha]\n",
    "    return ' '.join(tokens)\n",
    "\n",
    "def find_most_suitable_listings(query, tfidf_vectorizer, combined_features, df, top_n=5):\n",
    "    \"\"\"\n",
    "    Finds the most suitable listings for a given user query, including numerical and categorical data.\n",
    "    \n",
    "    Parameters:\n",
    "        query (str): The user's input query.\n",
    "        tfidf_vectorizer (TfidfVectorizer): Fitted TF-IDF vectorizer.\n",
    "        combined_features (sparse matrix): Combined feature matrix of listings.\n",
    "        df (pd.DataFrame): DataFrame containing the listings data.\n",
    "        top_n (int): Number of top listings to return.\n",
    "        \n",
    "    Returns:\n",
    "        pd.DataFrame: DataFrame containing the most suitable listings.\n",
    "    \"\"\"\n",
    "    # Preprocess the user query\n",
    "    query_processed = preprocess_text(query)\n",
    "    \n",
    "    # Vectorize the processed query using the fitted TF-IDF vectorizer\n",
    "    query_vector = tfidf_vectorizer.transform([query_processed])\n",
    "    \n",
    "    # Create a combined feature vector for the query (text features only for this example)\n",
    "    query_combined_features = hstack([query_vector, np.zeros((1, numerical_features.shape[1] + categorical_features.shape[1]))])\n",
    "    \n",
    "    # Calculate cosine similarity between the query and all listings\n",
    "    similarity_scores = cosine_similarity(query_combined_features, combined_features).flatten()\n",
    "    \n",
    "    # Get indices of the top_n most similar listings\n",
    "    top_indices = similarity_scores.argsort()[-top_n:][::-1]\n",
    "    \n",
    "    # Return the most similar listings as a DataFrame\n",
    "    return df.iloc[top_indices]\n",
    "\n",
    "\n",
    "# Example user query\n",
    "user_query = \"Looking for a cozy apartment in a quiet neighborhood with modern amenities, with atleast 4 rating\"\n",
    "# Find and display the most suitable listings\n",
    "recommended_listings = find_most_suitable_listings(user_query, tfidf_vectorizer, tfidf_matrix, df)\n",
    "print(recommended_listings[['description', 'neighborhood_overview', 'neighbourhood', 'property_type', 'room_type', 'review_scores_rating']])"
   ]
  },
  {
   "cell_type": "code",
   "execution_count": null,
   "metadata": {},
   "outputs": [],
   "source": [
    "pd.set_option('display.max_colwidth', None)\n",
    "\n",
    "# Assuming 'recommended_listings' is the DataFrame with your results\n",
    "# Example user query\n",
    "user_query = \"looking for house within 3000 SEK\"\n",
    "\n",
    "# Find and display the most suitable listings\n",
    "recommended_listings = find_most_suitable_listings(user_query, tfidf_vectorizer, tfidf_matrix, df)\n",
    "\n",
    "# Print the DataFrame with full text\n",
    "print(recommended_listings[['description']])"
   ]
  },
  {
   "cell_type": "code",
   "execution_count": null,
   "metadata": {},
   "outputs": [],
   "source": [
    "import pandas as pd\n",
    "import re\n",
    "from sklearn.feature_extraction.text import TfidfVectorizer\n",
    "from sklearn.preprocessing import StandardScaler, OneHotEncoder\n",
    "from sklearn.metrics.pairwise import cosine_similarity\n",
    "from scipy.sparse import hstack\n",
    "import spacy\n",
    "\n",
    "# Load spaCy model\n",
    "nlp = spacy.load('en_core_web_sm')\n",
    "\n",
    "# Load the data\n",
    "file_path = 'listings_2.csv'  # Replace with your file path\n",
    "df = pd.read_csv(file_path)\n",
    "\n",
    "# Specify relevant columns for processing\n",
    "textual_columns = ['description', 'neighborhood_overview', 'neighbourhood', 'property_type', 'room_type', 'bathrooms_text', 'amenities']\n",
    "numerical_columns = ['accommodates', 'bedrooms', 'beds', 'price', 'number_of_reviews', 'review_scores_rating']  # Example numerical columns\n",
    "categorical_columns = ['host_is_superhost', 'instant_bookable']  # Example categorical columns\n",
    "\n",
    "# Fill NaNs with empty strings for text columns and with 0 for numerical columns\n",
    "df[textual_columns] = df[textual_columns].fillna('')\n",
    "df[numerical_columns] = df[numerical_columns].fillna(0)\n",
    "\n",
    "# Clean and convert numerical columns where needed (e.g., 'price')\n",
    "def clean_numeric(column):\n",
    "    return pd.to_numeric(df[column].replace('[\\$,]', '', regex=True), errors='coerce')\n",
    "\n",
    "# Apply cleaning to 'price' column and any other similar columns\n",
    "df['price'] = clean_numeric('price')\n",
    "df[numerical_columns] = df[numerical_columns].fillna(0)  # Handle any NaNs resulting from conversion\n",
    "\n",
    "# Preprocess textual columns\n",
    "def preprocess_text(text):\n",
    "    text = re.sub(r'[\\[\\]\\\"]', '', text).lower()\n",
    "    doc = nlp(text)\n",
    "    tokens = [token.lemma_ for token in doc if not token.is_stop and token.is_alpha]\n",
    "    return ' '.join(tokens)\n",
    "\n",
    "# Apply preprocessing to the specified textual columns\n",
    "for col in textual_columns:\n",
    "    df[f'{col}_cleaned'] = df[col].apply(preprocess_text)\n",
    "\n",
    "# Combine cleaned text columns into a single 'combined_text' column\n",
    "df['combined_text'] = df[[f'{col}_cleaned' for col in textual_columns]].apply(lambda x: ' '.join(x), axis=1)\n",
    "\n",
    "# Initialize TF-IDF Vectorizer and fit on combined text\n",
    "tfidf_vectorizer = TfidfVectorizer(max_features=5000)\n",
    "tfidf_matrix = tfidf_vectorizer.fit_transform(df['combined_text'])\n",
    "\n",
    "# Standardize numerical features\n",
    "scaler = StandardScaler()\n",
    "numerical_features = scaler.fit_transform(df[numerical_columns])\n",
    "\n",
    "# One-Hot Encode categorical features\n",
    "encoder = OneHotEncoder(sparse=True, handle_unknown='ignore')\n",
    "categorical_features = encoder.fit_transform(df[categorical_columns])\n",
    "\n",
    "# Combine all features: TF-IDF matrix, numerical features, and categorical features\n",
    "combined_features = hstack([tfidf_matrix, numerical_features, categorical_features])\n",
    "\n",
    "# Calculate cosine similarity on the combined feature matrix\n",
    "similarity_matrix = cosine_similarity(combined_features)\n",
    "\n"
   ]
  },
  {
   "cell_type": "code",
   "execution_count": null,
   "metadata": {},
   "outputs": [],
   "source": [
    "import numpy as np\n",
    "def find_most_suitable_listings(query, tfidf_vectorizer, combined_features, df, top_n=5):\n",
    "    \"\"\"\n",
    "    Finds the most suitable listings for a given user query, including numerical and categorical data.\n",
    "    \n",
    "    Parameters:\n",
    "        query (str): The user's input query.\n",
    "        tfidf_vectorizer (TfidfVectorizer): Fitted TF-IDF vectorizer.\n",
    "        combined_features (sparse matrix): Combined feature matrix of listings.\n",
    "        df (pd.DataFrame): DataFrame containing the listings data.\n",
    "        top_n (int): Number of top listings to return.\n",
    "        \n",
    "    Returns:\n",
    "        pd.DataFrame: DataFrame containing the most suitable listings.\n",
    "    \"\"\"\n",
    "    # Preprocess the user query\n",
    "    query_processed = preprocess_text(query)\n",
    "    \n",
    "    # Vectorize the processed query using the fitted TF-IDF vectorizer\n",
    "    query_vector = tfidf_vectorizer.transform([query_processed])\n",
    "    \n",
    "    # Create a combined feature vector for the query (text features only for this example)\n",
    "    query_combined_features = hstack([query_vector, np.zeros((1, numerical_features.shape[1] + categorical_features.shape[1]))])\n",
    "    \n",
    "    # Calculate cosine similarity between the query and all listings\n",
    "    similarity_scores = cosine_similarity(query_combined_features, combined_features).flatten()\n",
    "    \n",
    "    # Get indices of the top_n most similar listings\n",
    "    top_indices = similarity_scores.argsort()[-top_n:][::-1]\n",
    "    \n",
    "    # Return the most similar listings as a DataFrame\n",
    "    return df.iloc[top_indices]\n",
    "\n",
    "# Example user query\n",
    "user_query = \"I want to party\"\n",
    "# Find and display the most suitable listings\n",
    "recommended_listings = find_most_suitable_listings(user_query, tfidf_vectorizer, combined_features, df)\n",
    "print(recommended_listings[['description', 'amenities', 'review_scores_rating']])"
   ]
  },
  {
   "cell_type": "code",
   "execution_count": null,
   "metadata": {},
   "outputs": [],
   "source": [
    "import pandas as pd\n",
    "from sentence_transformers import SentenceTransformer\n",
    "from sklearn.metrics.pairwise import cosine_similarity\n",
    "\n",
    "# Load your data\n",
    "df = pd.read_csv('listings_2.csv')\n",
    "\n",
    "# Combine relevant features into 'description'\n",
    "df = df.dropna(subset=['description', 'neighborhood_overview', 'neighbourhood', \n",
    "                       'property_type', 'room_type', 'bathrooms_text', 'amenities'])\n",
    "\n",
    "df['description'] = (\n",
    "    df['description'] + ' ' + df['neighborhood_overview'] + ' ' + df['neighbourhood'] + ' ' +\n",
    "    df['property_type'] + ' ' + df['room_type'] + ' ' + df['bathrooms_text'] + ' ' + df['amenities']\n",
    ")\n",
    "\n",
    "# Load the sentence transformer model\n",
    "model = SentenceTransformer('sentence-transformers/all-MiniLM-L6-v2')\n",
    "\n",
    "# Create embeddings for the descriptions directly\n",
    "listings_embeddings = model.encode(df['description'].tolist())\n",
    "\n",
    "# Define recommendation function\n",
    "def get_recommendations(query, embeddings, df, top_n=5):\n",
    "    query_embedding = model.encode([query])\n",
    "    similarities = cosine_similarity(query_embedding, embeddings)\n",
    "    top_indices = similarities[0].argsort()[-top_n:][::-1]\n",
    "    return df.iloc[top_indices]\n",
    "\n",
    "# Example user query\n",
    "query = \"Looking for a modern apartment with a great view\"\n",
    "# Get recommendations\n",
    "recommendations = get_recommendations(query, listings_embeddings, df)\n",
    "\n",
    "# Adjust display settings to show full text\n",
    "pd.set_option('display.max_colwidth', None)\n",
    "\n",
    "# Print the entire line for each recommendation\n",
    "print(recommendations[['description', 'neighborhood_overview', 'neighbourhood', 'property_type', 'room_type']])"
   ]
  },
  {
   "cell_type": "code",
   "execution_count": null,
   "metadata": {},
   "outputs": [],
   "source": [
    "# Example user query\n",
    "query = \"Big house\"\n",
    "# Get recommendations\n",
    "recommendations = get_recommendations(query, listings_embeddings, df)\n",
    "\n",
    "# Adjust display settings to show full text\n",
    "pd.set_option('display.max_colwidth', None)\n",
    "\n",
    "# Print the entire line for each recommendation\n",
    "print(recommendations[['description', 'neighborhood_overview', 'neighbourhood', 'property_type', 'room_type']])"
   ]
  },
  {
   "cell_type": "code",
   "execution_count": 1,
   "metadata": {},
   "outputs": [
    {
     "name": "stderr",
     "output_type": "stream",
     "text": [
      "/opt/homebrew/Caskroom/miniconda/base/envs/llmenv/lib/python3.11/site-packages/sentence_transformers/cross_encoder/CrossEncoder.py:11: TqdmExperimentalWarning: Using `tqdm.autonotebook.tqdm` in notebook mode. Use `tqdm.tqdm` instead to force console mode (e.g. in jupyter console)\n",
      "  from tqdm.autonotebook import tqdm, trange\n"
     ]
    },
    {
     "data": {
      "application/vnd.jupyter.widget-view+json": {
       "model_id": "d71f0021bb974b048addc8325e5a6d29",
       "version_major": 2,
       "version_minor": 0
      },
      "text/plain": [
       "modules.json:   0%|          | 0.00/349 [00:00<?, ?B/s]"
      ]
     },
     "metadata": {},
     "output_type": "display_data"
    },
    {
     "data": {
      "application/vnd.jupyter.widget-view+json": {
       "model_id": "5c3f5f07e0e947439f11a4db7f297d4a",
       "version_major": 2,
       "version_minor": 0
      },
      "text/plain": [
       "config_sentence_transformers.json:   0%|          | 0.00/116 [00:00<?, ?B/s]"
      ]
     },
     "metadata": {},
     "output_type": "display_data"
    },
    {
     "data": {
      "application/vnd.jupyter.widget-view+json": {
       "model_id": "a771afd27b744670b71b2bbeba7c074f",
       "version_major": 2,
       "version_minor": 0
      },
      "text/plain": [
       "README.md:   0%|          | 0.00/10.6k [00:00<?, ?B/s]"
      ]
     },
     "metadata": {},
     "output_type": "display_data"
    },
    {
     "data": {
      "application/vnd.jupyter.widget-view+json": {
       "model_id": "6557662825214628967d9e866117582e",
       "version_major": 2,
       "version_minor": 0
      },
      "text/plain": [
       "sentence_bert_config.json:   0%|          | 0.00/53.0 [00:00<?, ?B/s]"
      ]
     },
     "metadata": {},
     "output_type": "display_data"
    },
    {
     "data": {
      "application/vnd.jupyter.widget-view+json": {
       "model_id": "ea33439e2fb64bb2862da0248fb5e068",
       "version_major": 2,
       "version_minor": 0
      },
      "text/plain": [
       "config.json:   0%|          | 0.00/571 [00:00<?, ?B/s]"
      ]
     },
     "metadata": {},
     "output_type": "display_data"
    },
    {
     "data": {
      "application/vnd.jupyter.widget-view+json": {
       "model_id": "97121fd419f049e0ad3866f628db6be4",
       "version_major": 2,
       "version_minor": 0
      },
      "text/plain": [
       "model.safetensors:   0%|          | 0.00/438M [00:00<?, ?B/s]"
      ]
     },
     "metadata": {},
     "output_type": "display_data"
    },
    {
     "data": {
      "application/vnd.jupyter.widget-view+json": {
       "model_id": "3f897583153b4365adfafdaef947805d",
       "version_major": 2,
       "version_minor": 0
      },
      "text/plain": [
       "tokenizer_config.json:   0%|          | 0.00/363 [00:00<?, ?B/s]"
      ]
     },
     "metadata": {},
     "output_type": "display_data"
    },
    {
     "data": {
      "application/vnd.jupyter.widget-view+json": {
       "model_id": "17a2a1bd96c04c519c3287b875751bee",
       "version_major": 2,
       "version_minor": 0
      },
      "text/plain": [
       "vocab.txt:   0%|          | 0.00/232k [00:00<?, ?B/s]"
      ]
     },
     "metadata": {},
     "output_type": "display_data"
    },
    {
     "data": {
      "application/vnd.jupyter.widget-view+json": {
       "model_id": "3ca9faa0494f4fd3816372bc9570d910",
       "version_major": 2,
       "version_minor": 0
      },
      "text/plain": [
       "tokenizer.json:   0%|          | 0.00/466k [00:00<?, ?B/s]"
      ]
     },
     "metadata": {},
     "output_type": "display_data"
    },
    {
     "data": {
      "application/vnd.jupyter.widget-view+json": {
       "model_id": "22f926365b074c19aa10d3ee29a9449f",
       "version_major": 2,
       "version_minor": 0
      },
      "text/plain": [
       "special_tokens_map.json:   0%|          | 0.00/239 [00:00<?, ?B/s]"
      ]
     },
     "metadata": {},
     "output_type": "display_data"
    },
    {
     "data": {
      "application/vnd.jupyter.widget-view+json": {
       "model_id": "7fbce9f7901a43c1a183e9c09a2f538e",
       "version_major": 2,
       "version_minor": 0
      },
      "text/plain": [
       "1_Pooling/config.json:   0%|          | 0.00/190 [00:00<?, ?B/s]"
      ]
     },
     "metadata": {},
     "output_type": "display_data"
    }
   ],
   "source": [
    "import pandas as pd\n",
    "from sentence_transformers import SentenceTransformer\n",
    "from sklearn.metrics.pairwise import cosine_similarity\n",
    "\n",
    "# Load your data\n",
    "df = pd.read_csv('listings_2.csv')\n",
    "\n",
    "# Combine relevant features into 'description'\n",
    "df = df.dropna(subset=['description', 'neighborhood_overview', 'neighbourhood', \n",
    "                       'property_type', 'room_type', 'bathrooms_text', 'amenities'])\n",
    "\n",
    "df['description'] = (\n",
    "    df['description'] + ' ' + df['neighborhood_overview'] + ' ' + df['neighbourhood'] + ' ' +\n",
    "    df['property_type'] + ' ' + df['room_type'] + ' ' + df['bathrooms_text'] + ' ' + df['amenities']\n",
    ")\n",
    "\n",
    "# Load a more powerful sentence transformer model\n",
    "model = SentenceTransformer('sentence-transformers/all-mpnet-base-v2')\n",
    "\n",
    "# Create embeddings for the descriptions directly\n",
    "listings_embeddings = model.encode(df['description'].tolist())\n"
   ]
  },
  {
   "cell_type": "code",
   "execution_count": 17,
   "metadata": {},
   "outputs": [
    {
     "data": {
      "text/plain": [
       "Index(['id', 'listing_url', 'scrape_id', 'last_scraped', 'source', 'name',\n",
       "       'description', 'neighborhood_overview', 'picture_url', 'host_id',\n",
       "       'host_url', 'host_name', 'host_since', 'host_location', 'host_about',\n",
       "       'host_response_time', 'host_response_rate', 'host_acceptance_rate',\n",
       "       'host_is_superhost', 'host_thumbnail_url', 'host_picture_url',\n",
       "       'host_neighbourhood', 'host_listings_count',\n",
       "       'host_total_listings_count', 'host_verifications',\n",
       "       'host_has_profile_pic', 'host_identity_verified', 'neighbourhood',\n",
       "       'neighbourhood_cleansed', 'neighbourhood_group_cleansed', 'latitude',\n",
       "       'longitude', 'property_type', 'room_type', 'accommodates', 'bathrooms',\n",
       "       'bathrooms_text', 'bedrooms', 'beds', 'amenities', 'price',\n",
       "       'minimum_nights', 'maximum_nights', 'minimum_minimum_nights',\n",
       "       'maximum_minimum_nights', 'minimum_maximum_nights',\n",
       "       'maximum_maximum_nights', 'minimum_nights_avg_ntm',\n",
       "       'maximum_nights_avg_ntm', 'calendar_updated', 'has_availability',\n",
       "       'availability_30', 'availability_60', 'availability_90',\n",
       "       'availability_365', 'calendar_last_scraped', 'number_of_reviews',\n",
       "       'number_of_reviews_ltm', 'number_of_reviews_l30d', 'first_review',\n",
       "       'last_review', 'review_scores_rating', 'review_scores_accuracy',\n",
       "       'review_scores_cleanliness', 'review_scores_checkin',\n",
       "       'review_scores_communication', 'review_scores_location',\n",
       "       'review_scores_value', 'license', 'instant_bookable',\n",
       "       'calculated_host_listings_count',\n",
       "       'calculated_host_listings_count_entire_homes',\n",
       "       'calculated_host_listings_count_private_rooms',\n",
       "       'calculated_host_listings_count_shared_rooms', 'reviews_per_month'],\n",
       "      dtype='object')"
      ]
     },
     "execution_count": 17,
     "metadata": {},
     "output_type": "execute_result"
    }
   ],
   "source": [
    "df.columns"
   ]
  },
  {
   "cell_type": "code",
   "execution_count": 19,
   "metadata": {},
   "outputs": [
    {
     "name": "stdout",
     "output_type": "stream",
     "text": [
      "                                                                                                                                                                                                                                                                                                                                                                                                                                                                                                                                                                                                                                                                                                                                                                                                                                                                                                                                                                                                                                                                                                                                                                                                                                                                                                                                                                                                                                                                                                                                                                                                                                                                                                           description  \\\n",
      "358                                                                                                                                                                                                                                                                                                                                                                                                                                                                                                                                              Beautiful villa, 130 sqm, with several bedrooms, bathrooms and toilets. Large modern kitchen with all amenities. Large living room with sofa and dining area. Cozy TV room. Large sunny garden with patio, swings and sandbox. 15 min to central Sthlm. Lovely house. Beatiful green and cozy areas around, yet very close to the central parts of Stockholm - a truly unique area. Stockholm, Stockholms län, Sweden Entire home Entire home/apt 2.5 baths [\"BBQ grill\", \"Extra pillows and blankets\", \"Garden view\", \"First aid kit\", \"Washer\", \"Hair dryer\", \"Wifi\", \"Cooking basics\", \"Bathtub\", \"Refrigerator\", \"Smoke alarm\", \"Dishes and silverware\", \"Room-darkening shades\", \"Indoor fireplace\", \"Coffee\", \"Free parking on premises\", \"Dryer\", \"Bed linens\", \"Park view\", \"Kitchen\", \"Iron\", \"Oven\", \"High chair - available upon request\", \"Microwave\", \"Cleaning available during stay\", \"Patio or balcony\", \"Dishwasher\", \"Coffee maker\", \"TV with standard cable\", \"Essentials\", \"Fire extinguisher\", \"Stove\", \"Backyard\", \"Heating\", \"Children\\u2019s dinnerware\", \"Wine glasses\", \"Shared beach access\", \"Children\\u2019s books and toys\", \"Shampoo\"]   \n",
      "500                                                                                                                                                                                                                                                                                                                                                                                                                                                                                                                                                                                                                                                                                                                                Rent the entire first floor of a house with two bedrooms, bathroom, kitchen and a large patio. Located 20 min from Stockholm City in a nice and quiet area close to nature.<br /><br />The house has really high-speed internet (1000Mbit/s) comfortable beds, shower room with washing machine and a fully equipped kitchen with refrigerator, freezer, oven, microwave and dishwasher. A very calm and quiet family area, close to nature and running-tracks, outdoor gym and a small suburban center with supermarkets and some restaurants. Stockholm, Stockholms län, Sweden Entire home Entire home/apt 1.5 baths [\"Indoor fireplace: wood-burning\", \"Hot water\", \"First aid kit\", \"Washer\", \"Wifi\", \"Refrigerator\", \"Smoke alarm\", \"Dishes and silverware\", \"Self check-in\", \"Free parking on premises\", \"Kitchen\", \"Iron\", \"Patio or balcony\", \"Coffee maker\", \"TV with standard cable\", \"Essentials\", \"Fire extinguisher\", \"Backyard\", \"Heating\", \"Hangers\", \"Smart lock\"]   \n",
      "101                                                                                                                                                                                                                                                                                                                                                                                                                                                                                                                                                                                                                                                                                                                                                                                                                                                                                                                                                             A perfect house for the family with more than 200 sqm of spacious rooms, spa and sauna in an idyllic neighborhood. 50m to a socker field, 300m to a public playing ground and a morning swim at Mälaren. Only 20 min by tram/metro to Stockholm City. Nice neighborhood, close to City with local Tram. Close to water, swimming in the summer or ice skating in the winter.   Stockholm, Stockholm County, Sweden Entire home Entire home/apt 2 baths [\"Indoor fireplace\", \"Garden view\", \"First aid kit\", \"Washer\", \"Hair dryer\", \"Wifi\", \"Heating\", \"Free parking on premises\", \"Dryer\", \"Carbon monoxide alarm\", \"Air conditioning\", \"Fire extinguisher\", \"Lake view\", \"Smoke alarm\", \"Essentials\", \"Hangers\", \"Iron\", \"Kitchen\", \"Shampoo\", \"TV\"]   \n",
      "213  A large and homely apartment in Hammarby Sjöstad close to water, ski slope, shops, restaurants, cafés, outdoor areas and lovely Södermalm. The apartment has three bedrooms with room for four petsons, a bathroom & a toilet, open floor plan between kitchen, dining area & living room. Fantastic location near water, parks, Södermalm/City, outdoor area, adventure in Hammarbybacken, restaurants, bars, bakery, pharmacy, grocery stores. A quiet neighborhood but still a vibrant neighborhood. Great transport by boat, bus, tram and subway. Stockholm, Stockholm County, Sweden Entire condo Entire home/apt 1.5 baths [\"Elevator\", \"Paid washer \\u2013 In unit\", \"Hot water\", \"Extra pillows and blankets\", \"Hair dryer\", \"Game console: PS4\", \"Wifi\", \"Cooking basics\", \"Bathtub\", \"Dining table\", \"Refrigerator\", \"Smoke alarm\", \"Drying rack for clothing\", \"TV with standard cable, Apple TV, Netflix, HBO Max, Disney+\", \"Dishes and silverware\", \"Ski-in/ski-out \\u2013 near ski lifts\", \"Room-darkening shades\", \"Outdoor furniture\", \"Hot water kettle\", \"Coffee\", \"Portable fans\", \"Bed linens\", \"Baking sheet\", \"Body soap\", \"Courtyard view\", \"Cleaning products\", \"Iron\", \"Kitchen\", \"Freezer\", \"Shared backyard \\u2013 Not fully fenced\", \"Board games\", \"Clothing storage: walk-in closet\", \"Toaster\", \"Oven\", \"Private patio or balcony\", \"Host greets you\", \"Private entrance\", \"Blender\", \"Paid parking off premises\", \"Microwave\", \"Sonos Bluetooth sound system\", \"Books and reading material\", \"Dishwasher\", \"Coffee maker\", \"Essentials\", \"Fire extinguisher\", \"Stove\", \"Single level home\", \"Outdoor dining area\", \"Heating\", \"Wine glasses\", \"Shared beach access\", \"Hangers\"]   \n",
      "861                                                                                                                                                                                                                                                                                                                                                                                                                                                                                                                                                                    Hi, welcome to me Kristina I live in a 200 square meter apartment in downtown Stockholm. The house is old and cozy from the 19th century with tiled stoves and stuccos. Here you are located at Östermalm in downtown Stockholm. You can get on foot everywhere, there are lots of restaurants, shops, museums, water and boats going out to the archipelago. Central, close to Östermalmstorg, theatres like Dramaten and musseer, water and boats going out in the archipelago. Beautiful views at Nybroviken and Strömkajen. Stockholms l, Sweden Private room in rental unit Private room 2 baths [\"Portable air conditioning\", \"Elevator\", \"Hot water\", \"Hair dryer\", \"Wifi\", \"Cooking basics\", \"Bathtub\", \"Dining table\", \"Refrigerator\", \"Smoke alarm\", \"Dishes and silverware\", \"Luggage dropoff allowed\", \"Room-darkening shades\", \"Hot water kettle\", \"Bed linens\", \"Body soap\", \"Kitchen\", \"Toaster\", \"Oven\", \"Host greets you\", \"Clothing storage: dresser\", \"Microwave\", \"Coffee maker\", \"Essentials\", \"Stove\", \"Lock on bedroom door\", \"Heating\", \"Long term stays allowed\", \"TV with Amazon Prime Video, Chromecast\", \"Hangers\"]   \n",
      "\n",
      "                                                                                                                                                                                                                                           neighborhood_overview  \\\n",
      "358                                                                                                                                  Lovely house. Beatiful green and cozy areas around, yet very close to the central parts of Stockholm - a truly unique area.   \n",
      "500                                                                                                       A very calm and quiet family area, close to nature and running-tracks, outdoor gym and a small suburban center with supermarkets and some restaurants.   \n",
      "101                                                                                                                                     Nice neighborhood, close to City with local Tram. Close to water, swimming in the summer or ice skating in the winter.     \n",
      "213  Fantastic location near water, parks, Södermalm/City, outdoor area, adventure in Hammarbybacken, restaurants, bars, bakery, pharmacy, grocery stores. A quiet neighborhood but still a vibrant neighborhood. Great transport by boat, bus, tram and subway.   \n",
      "861                                                                                            Central, close to Östermalmstorg, theatres like Dramaten and musseer, water and boats going out in the archipelago. Beautiful views at Nybroviken and Strömkajen.   \n",
      "\n",
      "                           neighbourhood                property_type  \\\n",
      "358    Stockholm, Stockholms län, Sweden                  Entire home   \n",
      "500    Stockholm, Stockholms län, Sweden                  Entire home   \n",
      "101  Stockholm, Stockholm County, Sweden                  Entire home   \n",
      "213  Stockholm, Stockholm County, Sweden                 Entire condo   \n",
      "861                 Stockholms l, Sweden  Private room in rental unit   \n",
      "\n",
      "           room_type  bedrooms  \n",
      "358  Entire home/apt       4.0  \n",
      "500  Entire home/apt       2.0  \n",
      "101  Entire home/apt       4.0  \n",
      "213  Entire home/apt       3.0  \n",
      "861     Private room       1.0  \n"
     ]
    }
   ],
   "source": [
    "# Define recommendation function\n",
    "def get_recommendations(query, embeddings, df, top_n=5):\n",
    "    query_embedding = model.encode([query])\n",
    "    similarities = cosine_similarity(query_embedding, embeddings)\n",
    "    top_indices = similarities[0].argsort()[-top_n:][::-1]\n",
    "    return df.iloc[top_indices]\n",
    "\n",
    "# Example user query\n",
    "query = \"House in Stockholm with 2 bedrooms\"\n",
    "# Get recommendations\n",
    "recommendations = get_recommendations(query, listings_embeddings, df)\n",
    "\n",
    "# Adjust display settings to show full text\n",
    "pd.set_option('display.max_colwidth', None)\n",
    "\n",
    "# Print the entire line for each recommendation\n",
    "print(recommendations[['description', 'neighborhood_overview', 'neighbourhood', 'property_type', 'room_type', 'bedrooms']])"
   ]
  },
  {
   "cell_type": "code",
   "execution_count": 29,
   "metadata": {},
   "outputs": [
    {
     "data": {
      "text/plain": [
       "'https://a0.muscache.com/pictures/2085606/7a706118_original.jpg'"
      ]
     },
     "execution_count": 29,
     "metadata": {},
     "output_type": "execute_result"
    }
   ],
   "source": [
    "df['picture_url'][3]"
   ]
  },
  {
   "cell_type": "code",
   "execution_count": 25,
   "metadata": {},
   "outputs": [
    {
     "ename": "NameError",
     "evalue": "name 'processed_listings_with_original_descriptions' is not defined",
     "output_type": "error",
     "traceback": [
      "\u001b[0;31m---------------------------------------------------------------------------\u001b[0m",
      "\u001b[0;31mNameError\u001b[0m                                 Traceback (most recent call last)",
      "Cell \u001b[0;32mIn[25], line 1\u001b[0m\n\u001b[0;32m----> 1\u001b[0m \u001b[43mprocessed_listings_with_original_descriptions\u001b[49m\u001b[38;5;241m.\u001b[39mcolumns\n",
      "\u001b[0;31mNameError\u001b[0m: name 'processed_listings_with_original_descriptions' is not defined"
     ]
    }
   ],
   "source": [
    "processed_listings_with_original_descriptions.columns"
   ]
  },
  {
   "cell_type": "code",
   "execution_count": 33,
   "metadata": {},
   "outputs": [],
   "source": [
    "import pandas as pd\n",
    "import numpy as np\n",
    "import re\n",
    "\n",
    "# Load the original and processed data\n",
    "original_df = pd.read_csv('listings_2.csv')\n",
    "processed_df = pd.read_csv('processed_listings.csv')\n",
    "\n",
    "# Replace NaNs with an empty string and clean <br /> tags in 'description'\n",
    "original_df['description'] = original_df['description'].fillna('').apply(lambda x: re.sub(r'<br\\s*/?>', '\\n', str(x)))\n",
    "\n",
    "# Merge on a unique identifier (e.g., 'id') to correctly align descriptions\n",
    "# Assuming 'id' is the unique column that matches both DataFrames\n",
    "processed_df = processed_df.merge(original_df[['id', 'description']], on='id', how='left', suffixes=('', '_original'))\n",
    "\n",
    "# Replace the modified 'description' with the original 'description'\n",
    "processed_df['description'] = processed_df['description_original']\n",
    "\n",
    "# Drop the helper column if necessary\n",
    "processed_df = processed_df.drop(columns=['description_original'])\n",
    "\n",
    "# Save the updated processed DataFrame with the original descriptions\n",
    "processed_df.to_csv('processed_listings_with_original_descriptions.csv', index=False)"
   ]
  },
  {
   "cell_type": "code",
   "execution_count": 21,
   "metadata": {},
   "outputs": [],
   "source": [
    "#listings_embeddings = model.encode(df['description'].tolist())\n",
    "import numpy as np\n",
    "# Save the embeddings and DataFrame\n",
    "np.save('listings_embeddings.npy', listings_embeddings)\n",
    "df.to_csv('processed_listings.csv', index=False)"
   ]
  }
 ],
 "metadata": {
  "kernelspec": {
   "display_name": "llmenv",
   "language": "python",
   "name": "python3"
  },
  "language_info": {
   "codemirror_mode": {
    "name": "ipython",
    "version": 3
   },
   "file_extension": ".py",
   "mimetype": "text/x-python",
   "name": "python",
   "nbconvert_exporter": "python",
   "pygments_lexer": "ipython3",
   "version": "3.11.7"
  }
 },
 "nbformat": 4,
 "nbformat_minor": 2
}
